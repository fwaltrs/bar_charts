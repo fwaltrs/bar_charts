{
 "cells": [
  {
   "cell_type": "markdown",
   "metadata": {},
   "source": [
    "## Gráficos de barra com matplotlib\n",
    "\n",
    "*Construção de gráficos de barra com a lib matplotlib, com exemplos do dia a dia.*\n",
    "\n",
    "Resolvi iniciar uma série de matplotlib, onde vou explicar com exemplos como e porque utilizar cada um dos gráficos.\n",
    "\n",
    "Acredito que mais importante de que saber usar a lib em si, é saber o por que de ilustrar os dados com um gráfico x ou y, devemos sempre escolher o melhor para transmitir a informação de forma eficiente, objetiva e clara.\n",
    "\n",
    "Então vamos começar pelo chamado bar chart, que nada mais é que o gráfico de colunas e barras, também podemos englobar os histogramas, vamos para a primeira sessão!\n",
    "\n",
    "## Utilização do gráfico de barra:\n",
    "\n",
    "O gráfico de barra é facil de ler e entender. Você consegue ver os valores facilmente, e as labels em cada coluna facilitam para entender do que se trata. São espaçados e não geram confusão por não se 'misturarem' com outros dados do gráfico.\n",
    "\n",
    "Este tipo de gráfico pode ser usado tanto vertical como horizontalmente. \n",
    "\n",
    "Quando está na forma horizontal, podemos exibir dados com labels grandes, pois não vão se embaralhar com as outras.\n",
    "\n",
    "\n",
    "### Para ranqueamento:\n",
    "\n",
    "Podemos utilizar este gráfico em ranqueamentos, quando a posição de um item na lista é tão ou mais importante que seu valor em si, neste caso seria aconselhável ordernar os dados.\n",
    "\n",
    "Vamos ver alguns exemplos de utilização:\n",
    "\n",
    "- 5 países mais ricos do mundo;\n",
    "- Tabelas de ligas de esporte;\n",
    "- Estados com maior produção agrícola;\n",
    "\n",
    "### Para magnitude:\n",
    "\n",
    "Outra utilização comum é magnitude, comparação entre dados, por exemplo quando precisamos ver a quantidade de cada dado, quais são os maiores valores ou até mesmo as diferenças sutis entre eles, neste caso usamos sempre os números finais não porcentagens.\n",
    "\n",
    "Alguns exemplos de utilização:\n",
    "\n",
    "- Contagem de produção de barris de petróleo da empresa X por ano;\n",
    "- Salário por faixa etária da população do Canadá;\n",
    "- Quantidade de assaltos por ano no Brasil;\n",
    "\n",
    "**Observação:** Quando comparamos duas colunas, precisamos sempre começar o eixo que representa a quantidade com 0, veremos mais a frente os problemas que isso pode causar.\n",
    "\n",
    "## Desvantagens:\n",
    "\n",
    "- Quando há muitos valores o gráfico de barras perde um pouco do seu brilho pela falta de espaço;\n",
    "- Pode ficar um pouco confuso visualizar dados com valores negativos e positivos no mesmo gráfico;\n",
    "\n",
    "\n",
    "## Hello World nos gráficos de barra:\n",
    "\n",
    "Agora que vimos um pouco da teoria, vamos partir para a prática e quebrar a maldição do Hello World.\n",
    "\n",
    "Porem antes dois lembretes:\n",
    "\n",
    "1. Confira [aqui](https://github.com/matheusbattisti/bar_charts) todo o código deste artigo;\n",
    "2. Vou usar o Jupyter Notebook para auxiliar na parte do código, quer instalar ele também para acompanhar? [Confere aqui](https://medium.com/matheusbudkewicz/como-instalar-o-jupyter-notebook-windows-e-linux-20701fc583c);\n",
    "\n",
    "Agora podemos dar continuidade:"
   ]
  },
  {
   "cell_type": "code",
   "execution_count": 9,
   "metadata": {},
   "outputs": [
    {
     "data": {
      "image/png": "[encoded data removed]",
      "text/plain": [
       "<Figure size 432x288 with 1 Axes>"
      ]
     },
     "metadata": {},
     "output_type": "display_data"
    }
   ],
   "source": [
    "# Primeiramente importamos a lib\n",
    "import matplotlib.pyplot as plt\n",
    "\n",
    "# Um gráfico com a renda média por faixa etária será nosso Hello World, vamos definir alguns valores fictícios\n",
    "faixaEtaria = ['18-25', '26-35', '36-45', '46-55', '55+']\n",
    "renda = [1805.45, 2458.12, 3752.15, 4120.89, 3486.22]\n",
    "\n",
    "\"\"\"\n",
    "    Chamamos o método bar que criará o gráfico de barra \n",
    "    passamos os argumentos que são: \n",
    "        - faixaEtaria como eixo x \n",
    "        - rende como eixo y\n",
    "        - color para as cores das barras como red ( vermelho )\n",
    "\"\"\"\n",
    "plt.bar(faixaEtaria, renda, color=\"red\")\n",
    "\n",
    "# Aqui definimos as legendas de cada barra no eixo X\n",
    "plt.xticks(faixaEtaria)\n",
    "\n",
    "# A label para o eixo Y\n",
    "plt.ylabel('Renda média')\n",
    "\n",
    "# A label para o eixo X\n",
    "plt.xlabel('Faixa etária (anos)')\n",
    "\n",
    "# O título do gráfico\n",
    "plt.title('Renda média x Faixa etária no Brasil')\n",
    " \n",
    "# Chamamos o método show() para mostrar o gráfico na tela\n",
    "plt.show()"
   ]
  },
  {
   "cell_type": "markdown",
   "metadata": {},
   "source": [
    "Como podemos observar a construção do gráfico de início parece um tanto complexa, e também acredito que ninguem decore tantos parâmetros de cabeça, então aconselho a sempre olhar a documentação quando for criar visualização de dados.\n",
    "\n",
    "Pode conferir a doc oficial [aqui!](https://pythonspot.com/matplotlib-bar-chart/)\n",
    "\n",
    "## Compreendendo a construção do gráfico:\n",
    "\n",
    "Vamos agora comentar sobre o que acabou de acontecer: primeiramente criamos arrays com os valores imaginários para nosso gráfico, até aí nada demais.\n",
    "\n",
    "### bar():\n",
    "\n",
    "Depois chamamos *plt.bar()*, este método da lib plt, inicia a construsção do gráfico de barra, e aí começamos a passar os argumentos, que em ordem são:\n",
    "\n",
    "- x: As coordernadas das barras do eixo X, que no nosso caso são as faixas etárias;\n",
    "- height: A 'altura' das barras, valores que vão dimensionar as mesmas, no nosso caso o array de renda média;\n",
    "- color: Um argumento opicional que determina a cor das barras;\n",
    "\n",
    "### xticks():\n",
    "\n",
    "Prosseguindo temos o método *xticks()*, com ele definimos as labels do eixo X, ele precisa de um parâmetro com tipo de array que determine as labels.\n",
    "\n",
    "### ylabel() e xlabel():\n",
    "\n",
    "Com estes dois métodos adicionamos as labels do eixo Y e X, respectivamente.\n",
    "\n",
    "### title():\n",
    "\n",
    "*title()* adiciona o título do gráfico.\n",
    "\n",
    "### show():\n",
    "\n",
    "Por fim, show mostra o gráfico na tela.\n",
    "\n",
    "## Prosseguindo:\n",
    "\n",
    "Com esta explicação destes métodos essenciais já podemos seguir em frente.\n",
    "\n",
    "Vimos o gráfico de barras em forma de colunas que é vertical, temos outra variação que é o gráfico de barras porem horizontal.\n",
    "\n",
    "Com suas vantagens já explicadas anteriormente, a principal é que quando temos labels muito grandes este tipo de gráfico nos ajuda a economizar espaço.\n",
    "\n",
    "## Gráfico de barras horizontal:\n",
    "\n",
    "Vamos agora ver como construir um gráfico de barras horizontais."
   ]
  },
  {
   "cell_type": "code",
   "execution_count": 10,
   "metadata": {},
   "outputs": [
    {
     "data": {
      "image/png": "[encoded data removed]",
      "text/plain": [
       "<Figure size 432x288 with 1 Axes>"
      ]
     },
     "metadata": {},
     "output_type": "display_data"
    }
   ],
   "source": [
    "# Este gráfico simula a participação dos 5 produtos agrícolas mais produzidos no Brasil\n",
    "\n",
    "# Definindo os produtos, que vão para o eixo X\n",
    "produtos = ['Soja em grão', 'Cana de Açucar', 'Milho em grão', 'Café em grão', 'Mandioca']\n",
    "\n",
    "# Definindo as participações que formarão o eixo Y\n",
    "quantidade_pct = [33.6, 16.8, 10.3, 6.2, 3.8]\n",
    "\n",
    "# Semelhando ao bar() temos o barh()\n",
    "plt.barh(produtos, quantidade_pct, color='green')\n",
    "\n",
    "# A partir daqui não muda nada\n",
    "plt.ylabel(\"Produtos agrícolas\")\n",
    "plt.xlabel(\"Participação do produto (em %)\")\n",
    "plt.title(\"5 Produtos com maiores participação da indústria agrícola\")\n",
    "\n",
    "plt.show()"
   ]
  },
  {
   "cell_type": "markdown",
   "metadata": {},
   "source": [
    "Bom, este gráfico foi basicamente igual o outro, porém com barras horizontais, vemos a diferença no método *barh()* que substituiu o *bar()*, este 'h' adicionado é o que determina a criação do gráfico horizontal, vamos ver em mais detalhes:\n",
    "\n",
    "### barh():\n",
    "\n",
    "Inicia a criação de um gráfico de barras horizontais, inserimos os seguintes parâmetros:\n",
    "\n",
    "- y: em y passamos as labels que irão compor o eixo Y;\n",
    "- width: aqui são os valores do gráfico, que determinarão a width ( largura ) das barras;\n",
    "- color: Um argumento opicional que determina a cor das barras;\n",
    "\n",
    "## Margem de erro:\n",
    "\n",
    "Podemos também inserir a margem de erro nos nossos gráficos de coluna, vejamos como inserir utilizando o exemplo anterior:"
   ]
  },
  {
   "cell_type": "code",
   "execution_count": 11,
   "metadata": {
    "scrolled": true
   },
   "outputs": [
    {
     "data": {
      "image/png": "[encoded data removed]",
      "text/plain": [
       "<Figure size 432x288 with 1 Axes>"
      ]
     },
     "metadata": {},
     "output_type": "display_data"
    }
   ],
   "source": [
    "# Definindo os produtos, que vão para o eixo X\n",
    "produtos = ['Soja em grão', 'Cana de Açucar', 'Milho em grão', 'Café em grão', 'Mandioca']\n",
    "\n",
    "# Definindo as participações que formarão o eixo Y\n",
    "quantidade_pct = [33.6, 16.8, 10.3, 6.2, 3.8]\n",
    "\n",
    "# Definindo a margem de erro\n",
    "margem_erro = [3,2,1,2,2]\n",
    "\n",
    "# Agora com o parametro xerr, que representa o erro\n",
    "plt.barh(produtos, quantidade_pct, color='green', xerr=margem_erro)\n",
    "\n",
    "# A partir daqui não muda nada\n",
    "plt.ylabel(\"Produtos agrícolas\")\n",
    "plt.xlabel(\"Participação do produto (em %)\")\n",
    "plt.title(\"5 Produtos com maiores participação da indústria agrícola\")\n",
    "\n",
    "plt.show()"
   ]
  },
  {
   "cell_type": "markdown",
   "metadata": {},
   "source": [
    "### xerr e yerr\n",
    "\n",
    "Adicionamos um novo parâmetro xerr, que representou a margem de erro nas nossas barras horizontais, caso quisessemos representar no gráfico de colunas verticais deveriamos usar o yerr.\n",
    "\n",
    "Veja que precisamos passar como valor do argumento uma lista com exatemente o número de elementos que da lista que contem os valores, no nosso exemplo seria a quantidade de elementos de quantidade_pct.\n",
    "\n",
    "## Gráfico de barras agrupado:\n",
    "\n",
    "Outro gráfico que podemos construir com barras é o agrupado, a vantagem deste tipo de gráfico é comparar diferentes grupos com o mesmo valor de uma variável, vamos ver um exemplo:"
   ]
  },
  {
   "cell_type": "code",
   "execution_count": 12,
   "metadata": {},
   "outputs": [],
   "source": [
    "\n",
    "# grouped bar charts\n",
    "# stacked bar charts"
   ]
  }
 ],
 "metadata": {
  "kernelspec": {
   "display_name": "Python 3",
   "language": "python",
   "name": "python3"
  },
  "language_info": {
   "codemirror_mode": {
    "name": "ipython",
    "version": 3
   },
   "file_extension": ".py",
   "mimetype": "text/x-python",
   "name": "python",
   "nbconvert_exporter": "python",
   "pygments_lexer": "ipython3",
   "version": "3.6.4"
  }
 },
 "nbformat": 4,
 "nbformat_minor": 2
}
