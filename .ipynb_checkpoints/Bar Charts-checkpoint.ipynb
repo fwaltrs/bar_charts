{
 "cells": [
  {
   "cell_type": "markdown",
   "metadata": {},
   "source": [
    "## Gráficos de barra com matplotlib\n",
    "\n",
    "*Construção de gráficos de barra com a lib matplotlib, com exemplos do dia a dia.*\n",
    "\n",
    "Resolvi iniciar uma série de matplotlib, onde vou explicar com exemplos como e porque utilizar cada um dos gráficos.\n",
    "\n",
    "Acredito que mais importante de que saber usar a lib em si, é saber o por que de ilustrar os dados com um gráfico x ou y, devemos sempre escolher o melhor para transmitir a informação de forma eficiente, objetiva e clara.\n",
    "\n",
    "Então vamos começar pelo chamado bar chart, que nada mais é que o gráfico de colunas e barras, também podemos englobar os histogramas, vamos para a primeira sessão!\n",
    "\n",
    "## Utilização do gráfico de barra:\n",
    "\n",
    "O gráfico de barra é facil de ler e entender. Você consegue ver os valores facilmente, e as labels em cada coluna facilitam para entender do que se trata. São espaçados e não geram confusão por não se 'misturarem' com outros dados do gráfico.\n",
    "\n",
    "Este tipo de gráfico pode ser usado tanto vertical como horizontalmente. \n",
    "\n",
    "Quando está na forma horizontal, podemos exibir dados com labels grandes, pois não vão se embaralhar com as outras.\n",
    "\n",
    "\n",
    "### Para ranqueamento:\n",
    "\n",
    "Podemos utilizar este gráfico em ranqueamentos, quando a posição de um item na lista é tão ou mais importante que seu valor em si, neste caso seria aconselhável ordernar os dados.\n",
    "\n",
    "Vamos ver alguns exemplos de utilização:\n",
    "\n",
    "- 5 países mais ricos do mundo;\n",
    "- Tabelas de ligas de esporte;\n",
    "- Estados com maior produção agrícola;\n",
    "\n",
    "### Para magnitude:\n",
    "\n",
    "Outra utilização comum é magnitude, comparação entre dados, por exemplo quando precisamos ver a quantidade de cada dado, quais são os maiores valores ou até mesmo as diferenças sutis entre eles, neste caso usamos sempre os números finais não porcentagens.\n",
    "\n",
    "Alguns exemplos de utilização:\n",
    "\n",
    "- Contagem de produção de barris de petróleo da empresa X por ano;\n",
    "- Salário por faixa etária da população do Canadá;\n",
    "- Quantidade de assaltos por ano no Brasil;\n",
    "\n",
    "**Observação:** Quando comparamos duas colunas, precisamos sempre começar o eixo que representa a quantidade com 0, veremos mais a frente os problemas que isso pode causar.\n",
    "\n",
    "## Desvantagens:\n",
    "\n",
    "- Quando há muitos valores o gráfico de barras perde um pouco do seu brilho pela falta de espaço;\n",
    "- Pode ficar um pouco confuso visualizar dados com valores negativos e positivos no mesmo gráfico;\n",
    "\n",
    "\n",
    "## Hello World nos gráficos de barra:\n",
    "\n",
    "Agora que vimos um pouco da teoria, vamos partir para a prática e quebrar a maldição do Hello World.\n",
    "\n",
    "Porem antes dois lembretes:\n",
    "\n",
    "1. Confira [aqui](https://github.com/matheusbattisti/bar_charts) todo o código deste artigo;\n",
    "2. Vou usar o Jupyter Notebook para auxiliar na parte do código, quer instalar ele também para acompanhar? [Confere aqui](https://medium.com/matheusbudkewicz/como-instalar-o-jupyter-notebook-windows-e-linux-20701fc583c);\n",
    "\n",
    "Agora podemos dar continuidade:"
   ]
  },
  {
   "cell_type": "code",
   "execution_count": null,
   "metadata": {},
   "outputs": [],
   "source": [
    "# horizontal\n",
    "# vertical\n",
    "# grouped bar charts\n",
    "# stacked bar charts"
   ]
  }
 ],
 "metadata": {
  "kernelspec": {
   "display_name": "Python 3",
   "language": "python",
   "name": "python3"
  },
  "language_info": {
   "codemirror_mode": {
    "name": "ipython",
    "version": 3
   },
   "file_extension": ".py",
   "mimetype": "text/x-python",
   "name": "python",
   "nbconvert_exporter": "python",
   "pygments_lexer": "ipython3",
   "version": "3.6.4"
  }
 },
 "nbformat": 4,
 "nbformat_minor": 2
}
